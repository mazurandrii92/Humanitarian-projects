{
 "cells": [
  {
   "cell_type": "markdown",
   "metadata": {},
   "source": [
    "# Humanitarian Aid Optimization: Identifying High-Need Regions Through Data Analysis"
   ]
  },
  {
   "cell_type": "markdown",
   "metadata": {},
   "source": [
    "<div style=\"display: flex;\">\n",
    "  <div style=\"flex: 2;\">\n",
    "    <p>\n",
    "      Представьте, что вы работаете в международной гуманитарной организации, главная задача которой — борьба с бедностью и помощь людям из наименее развитых стран. Для выполнения своей миссии ваша организация периодически финансирует различные проекты, поддерживающие нуждающиеся регионы.\n",
    "    </p>\n",
    "    <p>\n",
    "      Вы собрали 100 миллионов долларов и должны принять решение, как распределить эти деньги — в какие страны их направить в первую очередь. Как выбрать, кто сильнее всего нуждается в финансовой поддержке?\n",
    "    </p>\n",
    "    <p>\n",
    "      Конечно, можно взять страны с самыми низкими доходами населения или с самой маленькой продолжительностью жизни. А может, лучше помочь странам, у которых самая высокая инфляция? По отдельным признакам выбирать достаточно сложно — нам хотелось бы выявить группы стран, в которых в целом ситуация вызывает опасения по совокупности значений всех признаков.\n",
    "    </p>\n",
    "  </div>\n",
    "  <div style=\"flex: 1;\">\n",
    "    <img src=\"assets/img1.jpg\" alt=\"Описание изображения\" style=\"width:50%;\">\n",
    "    <p style=\"text-align: center; font-size: small;\">Источник изображения</p>\n",
    "  </div>\n",
    "</div>\n",
    "\n",
    "\n"
   ]
  },
  {
   "cell_type": "markdown",
   "metadata": {},
   "source": [
    "Данные содержат следующие признаки:\n",
    "\n",
    "country — название страны;\n",
    "child_mort — показатель смертности детей до 5 лет;\n",
    "exports — показатель экспорта на душу населения;\n",
    "health — показатель затрат на здравоохранение на душу населения;\n",
    "imports — показатель импорта на душу населения;\n",
    "Income — средний доход на душу населения;\n",
    "Inflation — годовой показатель инфляции;\n",
    "life_expec — средняя продолжительность жизни;\n",
    "total_fer — суммарный коэффициент рождаемости;\n",
    "gdpp — значение ВВП на душу населения."
   ]
  },
  {
   "cell_type": "code",
   "execution_count": 11,
   "metadata": {},
   "outputs": [],
   "source": [
    "import pandas as pd\n",
    "from sklearn.preprocessing import StandardScaler\n",
    "import numpy as np\n",
    "from sklearn.decomposition import PCA"
   ]
  },
  {
   "cell_type": "code",
   "execution_count": 4,
   "metadata": {},
   "outputs": [
    {
     "data": {
      "text/plain": [
       "<bound method NDFrame.head of                  country  child_mort  exports  health  imports  income  \\\n",
       "0            Afghanistan        90.2     10.0    7.58     44.9    1610   \n",
       "1                Albania        16.6     28.0    6.55     48.6    9930   \n",
       "2                Algeria        27.3     38.4    4.17     31.4   12900   \n",
       "3                 Angola       119.0     62.3    2.85     42.9    5900   \n",
       "4    Antigua and Barbuda        10.3     45.5    6.03     58.9   19100   \n",
       "..                   ...         ...      ...     ...      ...     ...   \n",
       "162              Vanuatu        29.2     46.6    5.25     52.7    2950   \n",
       "163            Venezuela        17.1     28.5    4.91     17.6   16500   \n",
       "164              Vietnam        23.3     72.0    6.84     80.2    4490   \n",
       "165                Yemen        56.3     30.0    5.18     34.4    4480   \n",
       "166               Zambia        83.1     37.0    5.89     30.9    3280   \n",
       "\n",
       "     inflation  life_expec  total_fer   gdpp  \n",
       "0         9.44        56.2       5.82    553  \n",
       "1         4.49        76.3       1.65   4090  \n",
       "2        16.10        76.5       2.89   4460  \n",
       "3        22.40        60.1       6.16   3530  \n",
       "4         1.44        76.8       2.13  12200  \n",
       "..         ...         ...        ...    ...  \n",
       "162       2.62        63.0       3.50   2970  \n",
       "163      45.90        75.4       2.47  13500  \n",
       "164      12.10        73.1       1.95   1310  \n",
       "165      23.60        67.5       4.67   1310  \n",
       "166      14.00        52.0       5.40   1460  \n",
       "\n",
       "[167 rows x 10 columns]>"
      ]
     },
     "execution_count": 4,
     "metadata": {},
     "output_type": "execute_result"
    }
   ],
   "source": [
    "# Загрузим данные из CSV файла\n",
    "\n",
    "data = pd.read_csv('data/Country-data.csv')\n",
    "data.head"
   ]
  },
  {
   "cell_type": "code",
   "execution_count": 5,
   "metadata": {},
   "outputs": [
    {
     "data": {
      "text/plain": [
       "82.8"
      ]
     },
     "execution_count": 5,
     "metadata": {},
     "output_type": "execute_result"
    }
   ],
   "source": [
    "# Найдем максимальное значение показателя средней продолжительности жизни (life_expec)\n",
    "max_life_expec = data['life_expec'].max()\n",
    "\n",
    "# Округлим результат до одного знака после точки\n",
    "max_life_expec_rounded = round(max_life_expec, 1)\n",
    "\n",
    "max_life_expec_rounded"
   ]
  },
  {
   "cell_type": "code",
   "execution_count": 7,
   "metadata": {},
   "outputs": [
    {
     "data": {
      "text/plain": [
       "1.29"
      ]
     },
     "execution_count": 7,
     "metadata": {},
     "output_type": "execute_result"
    }
   ],
   "source": [
    "# Выделим признаки для стандартизации (исключая столбец с названиями стран)\n",
    "features = data.columns.drop('country')\n",
    "\n",
    "# Применим StandardScaler ко всем значениям признаков\n",
    "scaler = StandardScaler()\n",
    "data[features] = scaler.fit_transform(data[features])\n",
    "\n",
    "# Получим значение первого признака для первого объекта\n",
    "first_feature_first_object = data.iloc[0, 1]  # Первый объект и первый признак (т.к. 'country' - первый столбец)\n",
    "\n",
    "# Округлим результат до двух знаков после точки\n",
    "first_feature_first_object_rounded = round(first_feature_first_object, 2)\n",
    "\n",
    "first_feature_first_object_rounded"
   ]
  },
  {
   "cell_type": "code",
   "execution_count": 10,
   "metadata": {},
   "outputs": [
    {
     "data": {
      "text/plain": [
       "0.9"
      ]
     },
     "execution_count": 10,
     "metadata": {},
     "output_type": "execute_result"
    }
   ],
   "source": [
    "# Построим матрицу корреляций для всех признаков\n",
    "correlation_matrix = data[features].corr()\n",
    "\n",
    "# Найдем максимальный коэффициент корреляции, исключая единицы на диагонали\n",
    "max_correlation = correlation_matrix.where(np.triu(np.ones(correlation_matrix.shape), k=1).astype(bool)).max().max()\n",
    "\n",
    "# Округлим результат до двух знаков после точки\n",
    "max_correlation_rounded = round(max_correlation, 2)\n",
    "\n",
    "max_correlation_rounded\n"
   ]
  },
  {
   "cell_type": "code",
   "execution_count": 12,
   "metadata": {},
   "outputs": [
    {
     "data": {
      "text/plain": [
       "5"
      ]
     },
     "execution_count": 12,
     "metadata": {},
     "output_type": "execute_result"
    }
   ],
   "source": [
    "# Применим PCA к стандартизированным данным\n",
    "pca = PCA()\n",
    "pca.fit(data[features])\n",
    "\n",
    "# Найдем кумулятивную долю объясненной дисперсии\n",
    "cumulative_variance = np.cumsum(pca.explained_variance_ratio_)\n",
    "\n",
    "# Определим минимальное количество компонент для объяснения 90% дисперсии\n",
    "num_components = np.argmax(cumulative_variance >= 0.90) + 1\n",
    "\n",
    "num_components"
   ]
  },
  {
   "cell_type": "code",
   "execution_count": 13,
   "metadata": {},
   "outputs": [
    {
     "data": {
      "text/plain": [
       "0.46"
      ]
     },
     "execution_count": 13,
     "metadata": {},
     "output_type": "execute_result"
    }
   ],
   "source": [
    "# Доля дисперсии, объясняемая первой главной компонентой\n",
    "first_component_variance = pca.explained_variance_ratio_[0]\n",
    "\n",
    "# Округлим результат до двух знаков после точки\n",
    "first_component_variance_rounded = round(first_component_variance, 2)\n",
    "\n",
    "first_component_variance_rounded\n"
   ]
  },
  {
   "cell_type": "code",
   "execution_count": 14,
   "metadata": {},
   "outputs": [
    {
     "name": "stderr",
     "output_type": "stream",
     "text": [
      "c:\\Users\\mazur\\AppData\\Local\\Programs\\Python\\Python311\\Lib\\site-packages\\numpy\\core\\fromnumeric.py:86: FutureWarning: The behavior of DataFrame.sum with axis=None is deprecated, in a future version this will reduce over both axes and return a scalar. To retain the old behavior, pass axis=0 (or do not pass axis)\n",
      "  return reduction(axis=axis, out=out, **passkwargs)\n"
     ]
    },
    {
     "data": {
      "text/plain": [
       "0    0\n",
       "1    0\n",
       "2    0\n",
       "3    0\n",
       "4    0\n",
       "5    0\n",
       "6    0\n",
       "7    0\n",
       "8    0\n",
       "dtype: int64"
      ]
     },
     "execution_count": 14,
     "metadata": {},
     "output_type": "execute_result"
    }
   ],
   "source": [
    "# Преобразуем данные в пространство главных компонент\n",
    "pca_transformed_data = pca.transform(data[features])\n",
    "\n",
    "# Создадим DataFrame из этих данных для удобства\n",
    "pca_transformed_df = pd.DataFrame(pca_transformed_data)\n",
    "\n",
    "# Построим матрицу корреляций для главных компонент\n",
    "pca_correlation_matrix = pca_transformed_df.corr()\n",
    "\n",
    "# Подсчитаем количество значений в матрице корреляций, которые превышают 0.01, исключая единичные значения на главной диагонали\n",
    "high_correlation_count = np.sum((pca_correlation_matrix.abs() > 0.01) & (pca_correlation_matrix.abs() < 1))\n",
    "\n",
    "high_correlation_count\n"
   ]
  },
  {
   "cell_type": "code",
   "execution_count": 15,
   "metadata": {},
   "outputs": [
    {
     "name": "stderr",
     "output_type": "stream",
     "text": [
      "c:\\Users\\mazur\\AppData\\Local\\Programs\\Python\\Python311\\Lib\\site-packages\\sklearn\\cluster\\_kmeans.py:870: FutureWarning: The default value of `n_init` will change from 10 to 'auto' in 1.4. Set the value of `n_init` explicitly to suppress the warning\n",
      "  warnings.warn(\n",
      "c:\\Users\\mazur\\AppData\\Local\\Programs\\Python\\Python311\\Lib\\site-packages\\sklearn\\cluster\\_kmeans.py:870: FutureWarning: The default value of `n_init` will change from 10 to 'auto' in 1.4. Set the value of `n_init` explicitly to suppress the warning\n",
      "  warnings.warn(\n",
      "c:\\Users\\mazur\\AppData\\Local\\Programs\\Python\\Python311\\Lib\\site-packages\\sklearn\\cluster\\_kmeans.py:870: FutureWarning: The default value of `n_init` will change from 10 to 'auto' in 1.4. Set the value of `n_init` explicitly to suppress the warning\n",
      "  warnings.warn(\n",
      "c:\\Users\\mazur\\AppData\\Local\\Programs\\Python\\Python311\\Lib\\site-packages\\sklearn\\cluster\\_kmeans.py:870: FutureWarning: The default value of `n_init` will change from 10 to 'auto' in 1.4. Set the value of `n_init` explicitly to suppress the warning\n",
      "  warnings.warn(\n",
      "c:\\Users\\mazur\\AppData\\Local\\Programs\\Python\\Python311\\Lib\\site-packages\\sklearn\\cluster\\_kmeans.py:870: FutureWarning: The default value of `n_init` will change from 10 to 'auto' in 1.4. Set the value of `n_init` explicitly to suppress the warning\n",
      "  warnings.warn(\n",
      "c:\\Users\\mazur\\AppData\\Local\\Programs\\Python\\Python311\\Lib\\site-packages\\sklearn\\cluster\\_kmeans.py:870: FutureWarning: The default value of `n_init` will change from 10 to 'auto' in 1.4. Set the value of `n_init` explicitly to suppress the warning\n",
      "  warnings.warn(\n",
      "c:\\Users\\mazur\\AppData\\Local\\Programs\\Python\\Python311\\Lib\\site-packages\\sklearn\\cluster\\_kmeans.py:870: FutureWarning: The default value of `n_init` will change from 10 to 'auto' in 1.4. Set the value of `n_init` explicitly to suppress the warning\n",
      "  warnings.warn(\n",
      "c:\\Users\\mazur\\AppData\\Local\\Programs\\Python\\Python311\\Lib\\site-packages\\sklearn\\cluster\\_kmeans.py:870: FutureWarning: The default value of `n_init` will change from 10 to 'auto' in 1.4. Set the value of `n_init` explicitly to suppress the warning\n",
      "  warnings.warn(\n",
      "c:\\Users\\mazur\\AppData\\Local\\Programs\\Python\\Python311\\Lib\\site-packages\\sklearn\\cluster\\_kmeans.py:870: FutureWarning: The default value of `n_init` will change from 10 to 'auto' in 1.4. Set the value of `n_init` explicitly to suppress the warning\n",
      "  warnings.warn(\n"
     ]
    },
    {
     "data": {
      "text/plain": [
       "4"
      ]
     },
     "execution_count": 15,
     "metadata": {},
     "output_type": "execute_result"
    }
   ],
   "source": [
    "from sklearn.cluster import KMeans\n",
    "from sklearn.metrics import silhouette_score\n",
    "\n",
    "# Диапазон возможного количества кластеров\n",
    "cluster_range = range(2, 11)\n",
    "best_score = -1\n",
    "best_n_clusters = 0\n",
    "\n",
    "# Перебор количества кластеров и вычисление коэффициента силуэта\n",
    "for n_clusters in cluster_range:\n",
    "    kmeans = KMeans(n_clusters=n_clusters, init='k-means++', random_state=1)\n",
    "    cluster_labels = kmeans.fit_predict(pca_transformed_df)\n",
    "    silhouette_avg = silhouette_score(pca_transformed_df, cluster_labels)\n",
    "    if silhouette_avg > best_score:\n",
    "        best_score = silhouette_avg\n",
    "        best_n_clusters = n_clusters\n",
    "\n",
    "best_n_clusters\n"
   ]
  },
  {
   "cell_type": "code",
   "execution_count": 16,
   "metadata": {},
   "outputs": [
    {
     "name": "stderr",
     "output_type": "stream",
     "text": [
      "c:\\Users\\mazur\\AppData\\Local\\Programs\\Python\\Python311\\Lib\\site-packages\\sklearn\\cluster\\_kmeans.py:870: FutureWarning: The default value of `n_init` will change from 10 to 'auto' in 1.4. Set the value of `n_init` explicitly to suppress the warning\n",
      "  warnings.warn(\n"
     ]
    },
    {
     "data": {
      "text/plain": [
       "(1, 1)"
      ]
     },
     "execution_count": 16,
     "metadata": {},
     "output_type": "execute_result"
    }
   ],
   "source": [
    "# Реализуем алгоритм k-means++ с оптимальным количеством кластеров\n",
    "kmeans = KMeans(n_clusters=best_n_clusters, init='k-means++', random_state=1)\n",
    "cluster_labels = kmeans.fit_predict(pca_transformed_df)\n",
    "\n",
    "# Добавим метки кластеров к оригинальным данным\n",
    "data['cluster'] = cluster_labels\n",
    "\n",
    "# Найдем страну с самым высоким показателем детской смертности и самым низким ВВП на душу населения\n",
    "max_child_mort_country = data.loc[data['child_mort'].idxmax()]\n",
    "min_gdpp_country = data.loc[data['gdpp'].idxmin()]\n",
    "\n",
    "# Определим кластеры для этих стран\n",
    "max_child_mort_cluster = max_child_mort_country['cluster']\n",
    "min_gdpp_cluster = min_gdpp_country['cluster']\n",
    "\n",
    "max_child_mort_cluster, min_gdpp_cluster\n"
   ]
  },
  {
   "cell_type": "code",
   "execution_count": 17,
   "metadata": {},
   "outputs": [
    {
     "data": {
      "text/plain": [
       "array(['Haiti', 'Lesotho', 'Central African Republic'], dtype=object)"
      ]
     },
     "execution_count": 17,
     "metadata": {},
     "output_type": "execute_result"
    }
   ],
   "source": [
    "# Определяем кластер, в который попали страны с самым высоким показателем детской смертности и самым низким ВВП на душу населения\n",
    "target_cluster = max_child_mort_cluster  # или min_gdpp_cluster, они должны быть одинаковыми\n",
    "\n",
    "# Отбираем страны из целевого кластера\n",
    "target_cluster_countries = data[data['cluster'] == target_cluster]\n",
    "\n",
    "# Выбираем три страны с самой маленькой продолжительностью жизни\n",
    "three_lowest_life_expec_countries = target_cluster_countries.nsmallest(3, 'life_expec')\n",
    "\n",
    "# Получаем названия этих стран\n",
    "three_lowest_life_expec_countries_names = three_lowest_life_expec_countries['country'].values\n",
    "\n",
    "three_lowest_life_expec_countries_names\n"
   ]
  },
  {
   "cell_type": "code",
   "execution_count": null,
   "metadata": {},
   "outputs": [],
   "source": []
  }
 ],
 "metadata": {
  "kernelspec": {
   "display_name": "Python (pymol_env)",
   "language": "python",
   "name": "pymol_env"
  },
  "language_info": {
   "codemirror_mode": {
    "name": "ipython",
    "version": 3
   },
   "file_extension": ".py",
   "mimetype": "text/x-python",
   "name": "python",
   "nbconvert_exporter": "python",
   "pygments_lexer": "ipython3",
   "version": "3.12.3"
  }
 },
 "nbformat": 4,
 "nbformat_minor": 2
}
